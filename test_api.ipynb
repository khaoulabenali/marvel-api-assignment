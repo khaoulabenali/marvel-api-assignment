{
 "cells": [
  {
   "cell_type": "code",
   "execution_count": 2,
   "metadata": {},
   "outputs": [],
   "source": [
    "import app.config as config\n",
    "import time\n",
    "from hashlib import md5\n",
    "import requests as rq\n",
    "import polars as pl\n",
    "import time"
   ]
  },
  {
   "cell_type": "code",
   "execution_count": 5,
   "metadata": {},
   "outputs": [
    {
     "name": "stdout",
     "output_type": "stream",
     "text": [
      "['Blink', 'Captain America (Ultimate)', 'Hulk (Ultimate)', 'Colossus (Ultimate)', 'Colossus', 'Holocaust (Age of Apocalypse)', 'Beast (Ultimate)', 'Sunfire', 'Scarlet Witch (Ultimate)', 'Thor (Ultimate)', 'Silver Samurai (Age of Apocalypse)', 'Wolverine', 'Apocalypse', 'Iceman (Ultimate)', 'Quicksilver (Ultimate)', 'Jean Grey (Ultimate)', 'Nick Fury (Ultimate)', 'Vanisher (Ultimate)', 'Wasp (Ultimate)', 'Rogue (Ultimate)', 'Rogue', 'Magneto', 'Sabretooth (Age of Apocalypse)', 'Mister Sinister', 'Hawkeye (Ultimate)', 'Spider-Man (Ultimate)', 'Black Widow (Ultimate)', 'Storm (Age of Apocalypse)', 'Gambit', 'Magneto (Ultimate)', 'Shadowcat (Age of Apocalypse)', 'Hulk', 'Storm (Ultimate)']\n"
     ]
    }
   ],
   "source": [
    "\n",
    "\n",
    "ts = str(time.time())\n",
    "hash_str = md5(\n",
    "    f\"{ts}{config.MARVEL_API_PRIVATE_KEY}{config.MARVEL_API_PUBLIC_KEY}\".encode(\n",
    "        \"utf8\"\n",
    "    )\n",
    ").hexdigest()\n",
    "\n",
    "params = {\n",
    "    \"apikey\": config.MARVEL_API_PUBLIC_KEY,\n",
    "    \"ts\": ts,\n",
    "    \"hash\": hash_str,\n",
    "}\n",
    "response = rq.get(\n",
    "    \"https://gateway.marvel.com:443/v1/public/comics\", params=params\n",
    ")\n",
    "result = response.json()[\"data\"][\"results\"]\n",
    "distinct_characters_from_comics = list(\n",
    "    set(\n",
    "        character[\"name\"]\n",
    "        for comic in result if comic[\"characters\"][\"available\"] > 0\n",
    "        for character in comic[\"characters\"][\"items\"]\n",
    "    )\n",
    ")\n",
    "\n",
    "# Print the distinct character names\n",
    "print(distinct_characters_from_comics)\n"
   ]
  },
  {
   "cell_type": "code",
   "execution_count": 6,
   "metadata": {},
   "outputs": [
    {
     "name": "stdout",
     "output_type": "stream",
     "text": [
      "['Abyss', 'Agatha Harkness', 'Adam Warlock', 'Adam Destine', 'Absorbing Man', 'Aegis (Trey Rollins)', '3-D Man', 'Abomination (Emil Blonsky)', 'Agent Zero', 'A-Bomb (HAS)', 'Agent Brand', 'Abyss (Age of Apocalypse)', 'Aero (Aero)', 'Aaron Stack', 'Abomination (Ultimate)', 'Air-Walker (Gabriel Lan)', 'A.I.M.', 'Aginar', 'Agents of Atlas', 'Agent X (Nijo)']\n"
     ]
    }
   ],
   "source": [
    "\n",
    "\n",
    "ts = str(time.time())\n",
    "hash_str = md5(\n",
    "    f\"{ts}{config.MARVEL_API_PRIVATE_KEY}{config.MARVEL_API_PUBLIC_KEY}\".encode(\n",
    "        \"utf8\"\n",
    "    )\n",
    ").hexdigest()\n",
    "\n",
    "params = {\n",
    "    \"apikey\": config.MARVEL_API_PUBLIC_KEY,\n",
    "    \"ts\": ts,\n",
    "    \"hash\": hash_str,\n",
    "}\n",
    "response = rq.get(\n",
    "    \"https://gateway.marvel.com:443/v1/public/characters\", params=params\n",
    ")\n",
    "result = response.json()[\"data\"][\"results\"]\n",
    "distinct_characters_from_characters = list(\n",
    "    set(\n",
    "        character[\"name\"]\n",
    "        for character in result\n",
    "    )\n",
    ")\n",
    "\n",
    "# Print the distinct character names\n",
    "print(distinct_characters_from_characters)\n"
   ]
  },
  {
   "cell_type": "code",
   "execution_count": 7,
   "metadata": {},
   "outputs": [],
   "source": [
    "common_values = list(set(distinct_characters_from_comics) & set(distinct_characters_from_characters))"
   ]
  },
  {
   "cell_type": "code",
   "execution_count": 8,
   "metadata": {},
   "outputs": [
    {
     "data": {
      "text/plain": [
       "[]"
      ]
     },
     "execution_count": 8,
     "metadata": {},
     "output_type": "execute_result"
    }
   ],
   "source": [
    "common_values"
   ]
  },
  {
   "cell_type": "code",
   "execution_count": null,
   "metadata": {},
   "outputs": [],
   "source": []
  }
 ],
 "metadata": {
  "kernelspec": {
   "display_name": "marvel_test_venv",
   "language": "python",
   "name": "python3"
  },
  "language_info": {
   "codemirror_mode": {
    "name": "ipython",
    "version": 3
   },
   "file_extension": ".py",
   "mimetype": "text/x-python",
   "name": "python",
   "nbconvert_exporter": "python",
   "pygments_lexer": "ipython3",
   "version": "3.9.0"
  }
 },
 "nbformat": 4,
 "nbformat_minor": 2
}
